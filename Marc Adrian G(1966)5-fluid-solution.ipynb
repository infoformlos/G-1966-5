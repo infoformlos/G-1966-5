{
 "cells": [
  {
   "cell_type": "code",
   "execution_count": 4,
   "id": "d5723fc3",
   "metadata": {},
   "outputs": [],
   "source": [
    "from PIL import Image, ImageDraw, ImageFont\n",
    "import random\n",
    "import math\n",
    "\n",
    "scale_factor = 4\n",
    "paper_width, paper_height = 29.7 * 10 * scale_factor, 36.3 * 10 * scale_factor  # cm to mm conversion, then scaled\n",
    "border_offset = 5 * scale_factor  # 0.5 cm in mm, then scaled\n",
    "\n",
    "# Creating an image with white background\n",
    "image = Image.new('RGB', (int(paper_width), int(paper_height)), 'white')\n",
    "draw = ImageDraw.Draw(image)\n",
    "\n",
    "# List of words\n",
    "same_spelling_words = ['bitter', 'firm', 'kind', 'band', 'herb', 'boot', 'brat', 'brave', 'box', 'after', 'chance', 'born', 'die', 'block', 'also', 'handy', 'brand', 'hell', 'rat', 'halt', 'post', 'angler', 'fall', 'blind', 'brief', 'hut', 'lager', 'see', 'taste', 'wink', 'rock']\n",
    "# Choosing up to 20 words, allowing repetition (but not more than two times for each word)\n",
    "chosen_words = random.choices(same_spelling_words * 2, k=10)\n",
    "\n",
    "# Character distances and font sizes\n",
    "character_distances = [0, 20, 50]\n",
    "font_sizes = [20, 50, 100]\n",
    "angles = [0, 0, 0, 15, 30, 45, 60]\n",
    "\n",
    "font_path = \"/Users/Sim/Library/Fonts/LabradorA-Black.ttf\"\n",
    "\n",
    "# Draw the words at random positions\n",
    "for word in chosen_words:\n",
    "    char_distance = random.choice(character_distances)\n",
    "    font_size = random.choice(font_sizes)\n",
    "    angle_size = random.choice(angles)\n",
    "    font = ImageFont.truetype(font_path, font_size)\n",
    "\n",
    "    # Randomly choose between upward and downward deviation\n",
    "    if random.choice([True, False]):\n",
    "        angle_size = -angle_size\n",
    "\n",
    "    # Calculate the bounding width and height\n",
    "    bounding_width = (font_size + char_distance) * len(word)\n",
    "    bounding_height = font_size\n",
    "\n",
    "    # Maximum y_offset for the characters in the word\n",
    "    max_y_offset = (font_size + char_distance) * (len(word) - 1) * math.sin(math.radians(angle_size))\n",
    "\n",
    "    # Ensure the text fits within the borders, taking into account the max y_offset both upward and downward\n",
    "    x_position = random.randint(border_offset, int(paper_width) - int(bounding_width) - border_offset)\n",
    "    y_position = random.randint(border_offset + abs(int(max_y_offset)), int(paper_height) - int(bounding_height) - abs(int(max_y_offset)) - border_offset)\n",
    "\n",
    "    # Place each character along a line determined by the chosen angle\n",
    "    for i, char in enumerate(word):\n",
    "        x_offset = i * (font_size + char_distance) * math.cos(math.radians(angle_size))\n",
    "        y_offset = i * (font_size + char_distance) * math.sin(math.radians(angle_size))\n",
    "        draw.text((x_position + x_offset, y_position + y_offset), char, font=font, fill=\"black\")\n",
    "\n",
    "# Save the image\n",
    "image.save('concrete_poem.png', quality=95)\n"
   ]
  },
  {
   "cell_type": "code",
   "execution_count": null,
   "id": "0dc75dae",
   "metadata": {},
   "outputs": [],
   "source": []
  }
 ],
 "metadata": {
  "kernelspec": {
   "display_name": "Python 3 (ipykernel)",
   "language": "python",
   "name": "python3"
  },
  "language_info": {
   "codemirror_mode": {
    "name": "ipython",
    "version": 3
   },
   "file_extension": ".py",
   "mimetype": "text/x-python",
   "name": "python",
   "nbconvert_exporter": "python",
   "pygments_lexer": "ipython3",
   "version": "3.9.7"
  }
 },
 "nbformat": 4,
 "nbformat_minor": 5
}
